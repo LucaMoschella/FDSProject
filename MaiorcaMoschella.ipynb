{
 "cells": [
  {
   "cell_type": "heading",
   "metadata": {},
   "level": 1,
   "source": [
    "Global imports:"
   ]
  },
  {
   "cell_type": "code",
   "execution_count": 21,
   "metadata": {},
   "outputs": [],
   "source": [
    "from pathlib import Path\n",
    "\n",
    "import numpy as np\n",
    "import pandas as pd\n"
   ]
  },
  {
   "cell_type": "heading",
   "metadata": {},
   "level": 1,
   "source": [
    "Pandas initialization:"
   ]
  },
  {
   "cell_type": "code",
   "execution_count": 22,
   "metadata": {},
   "outputs": [],
   "source": [
    "#pd.set_option('display.width', 1000)\n",
    "#pd.set_option('display.max_columns', 80)\n",
    "pd.set_option('display.float_format', lambda x: '{:.3f}'.format(x))"
   ]
  },
  {
   "cell_type": "heading",
   "metadata": {},
   "level": 1,
   "source": [
    "Some constant:\n"
   ]
  },
  {
   "cell_type": "code",
   "execution_count": 23,
   "metadata": {},
   "outputs": [],
   "source": [
    "dataset_dir = 'dataset'\n",
    "ZERO_VALUE = 'zero'\n",
    "NONE_VALUE = 'None'\n"
   ]
  },
  {
   "cell_type": "heading",
   "metadata": {},
   "level": 1,
   "source": [
    "Train & test loading:"
   ]
  },
  {
   "cell_type": "code",
   "execution_count": 24,
   "metadata": {},
   "outputs": [],
   "source": [
    "train_df = pd.read_csv(Path(dataset_dir, 'train.csv'))\n",
    "test_df = pd.read_csv(Path(dataset_dir, 'test.csv'))"
   ]
  },
  {
   "cell_type": "heading",
   "metadata": {},
   "level": 1,
   "source": [
    "Removing outliers"
   ]
  },
  {
   "cell_type": "code",
   "execution_count": 25,
   "metadata": {},
   "outputs": [],
   "source": [
    "# As suggested by many participants, we remove several outliers\n",
    "train_df.drop(train_df[(train_df['OverallQual'] < 5) & (train_df['SalePrice'] > 200000)].index, inplace=True)\n",
    "train_df.drop(train_df[(train_df['GrLivArea'] > 4000) & (train_df['SalePrice'] < 300000)].index, inplace=True)\n",
    "train_df.reset_index(drop=True, inplace=True)\n"
   ]
  },
  {
   "cell_type": "heading",
   "metadata": {},
   "level": 1,
   "source": [
    "Log Sale Price"
   ]
  },
  {
   "cell_type": "code",
   "execution_count": 26,
   "metadata": {},
   "outputs": [],
   "source": [
    "# train_df['SalePrice'] = np.log(train_df['SalePrice'])\n",
    "y_train = np.log1p(train_df[\"SalePrice\"])\n"
   ]
  },
  {
   "cell_type": "heading",
   "metadata": {},
   "level": 1,
   "source": [
    "Concatenate train & test"
   ]
  },
  {
   "cell_type": "code",
   "execution_count": 27,
   "metadata": {
    "collapsed": true
   },
   "outputs": [],
   "source": [
    "train_ids = train_df['Id']\n",
    "test_ids = test_df['Id']\n",
    "\n",
    "train_df = train_df.drop(columns=['Id', 'SalePrice'])  # Dropping also the y_train values (already stored)\n",
    "test_df = test_df.drop(columns=['Id'])\n",
    "\n",
    "train_obs = train_df.shape[0]\n",
    "test_obs = test_df.shape[0]\n",
    "\n",
    "complete_df = pd.concat([train_df, test_df])  # Merge train and test dataframes to improve features ranges\n",
    "\n",
    "assert complete_df.shape[0] == train_obs + test_obs"
   ]
  },
  {
   "cell_type": "heading",
   "metadata": {},
   "level": 1,
   "source": [
    "Trivial irrelevant features removal:"
   ]
  },
  {
   "cell_type": "code",
   "execution_count": 28,
   "metadata": {},
   "outputs": [],
   "source": [
    "# Utilities has practically always the same value in the train dataset\n",
    "# complete_df.drop(columns=['Utilities', 'Street'], inplace=True)\n"
   ]
  },
  {
   "cell_type": "heading",
   "metadata": {},
   "level": 1,
   "source": [
    "Features grouping by NaN \"type\"/\"properties\":"
   ]
  },
  {
   "cell_type": "code",
   "execution_count": 29,
   "metadata": {
    "collapsed": false
   },
   "outputs": [],
   "source": [
    "complete_df[\"PoolQC\"] = complete_df[\"PoolQC\"].fillna(\"None\")\n",
    "complete_df[\"MiscFeature\"] = complete_df[\"MiscFeature\"].fillna(\"None\")\n",
    "complete_df[\"Alley\"] = complete_df[\"Alley\"].fillna(\"None\")\n",
    "complete_df[\"Fence\"] = complete_df[\"Fence\"].fillna(\"None\")\n",
    "complete_df[\"FireplaceQu\"] = complete_df[\"FireplaceQu\"].fillna(\"None\")\n",
    "\n",
    "#Group by neighborhood and fill in missing value by the median LotFrontage of all the neighborhood\n",
    "complete_df[\"LotFrontage\"] = complete_df.groupby(\"Neighborhood\")[\"LotFrontage\"].transform(\n",
    "    lambda x: x.fillna(x.median()))\n",
    "\n",
    "for col in ['GarageType', 'GarageFinish', 'GarageQual', 'GarageCond']:\n",
    "    complete_df[col] = complete_df[col].fillna('None')\n",
    "\n",
    "for col in ('GarageYrBlt', 'GarageArea', 'GarageCars'):\n",
    "    complete_df[col] = complete_df[col].fillna(0)\n",
    "\n",
    "for col in ('BsmtFinSF1', 'BsmtFinSF2', 'BsmtUnfSF','TotalBsmtSF', 'BsmtFullBath', 'BsmtHalfBath'):\n",
    "    complete_df[col] = complete_df[col].fillna(0)\n",
    "\n",
    "for col in ('BsmtQual', 'BsmtCond', 'BsmtExposure', 'BsmtFinType1', 'BsmtFinType2'):\n",
    "    complete_df[col] = complete_df[col].fillna('None')\n",
    "\n",
    "complete_df[\"MasVnrType\"] = complete_df[\"MasVnrType\"].fillna(\"None\")\n",
    "complete_df[\"MasVnrArea\"] = complete_df[\"MasVnrArea\"].fillna(0)\n",
    "\n",
    "complete_df['MSZoning'] = complete_df['MSZoning'].fillna(complete_df['MSZoning'].mode()[0])\n",
    "complete_df = complete_df.drop(['Utilities'], axis=1)\n",
    "complete_df[\"Functional\"] = complete_df[\"Functional\"].fillna(\"Typ\")\n",
    "mode_col = ['Electrical','KitchenQual', 'Exterior1st', 'Exterior2nd', 'SaleType']\n",
    "for col in mode_col:\n",
    "    complete_df[col] = complete_df[col].fillna(complete_df[col].mode()[0])\n",
    "    \n",
    "complete_df['MSSubClass'] = complete_df['MSSubClass'].fillna(\"None\")\n",
    "\n",
    "#MSSubClass=The building class\n",
    "complete_df['MSSubClass'] = complete_df['MSSubClass'].apply(str)\n",
    "\n",
    "\n",
    "#Changing OverallCond into a categorical variable\n",
    "complete_df['OverallCond'] = complete_df['OverallCond'].astype(str)\n",
    "\n",
    "\n",
    "#Year and month sold are transformed into categorical features.\n",
    "complete_df['YrSold'] = complete_df['YrSold'].astype(str)\n",
    "complete_df['MoSold'] = complete_df['MoSold'].astype(str)\n"
   ]
  },
  {
   "cell_type": "code",
   "execution_count": 30,
   "metadata": {
    "collapsed": false
   },
   "outputs": [
    {
     "name": "stdout",
     "output_type": "stream",
     "text": [
      "Features = 78 | Features with NaN values = 0\nZero-like NaN features = 21 | None-like NaN features = 5 | NaN to MSC features = 5 | Other = 2\n"
     ]
    }
   ],
   "source": [
    "# Features with NaN values\n",
    "nan_mask = complete_df.isnull().any()\n",
    "nan_columns = nan_mask[nan_mask].shape[0]\n",
    "\n",
    "is_a_valid_feature = lambda x: x in complete_df\n",
    "# Feature with NaN values going to ZERO_VALUE\n",
    "# Those are features with categorical value, but with an intrinsic order so \"NaN\" (\"NA\") is the lower possible element.\n",
    "to_zero = list(filter(is_a_valid_feature, [\"PoolQC\",\n",
    "                                           \"Fence\",\n",
    "                                           \"FireplaceQu\",\n",
    "                                           'GarageFinish', 'GarageQual', 'GarageCond', 'GarageYrBlt', 'GarageArea',\n",
    "                                           'GarageCars',\n",
    "                                           'BsmtFinSF1', 'BsmtFinSF2', 'BsmtUnfSF', 'TotalBsmtSF', 'BsmtFullBath',\n",
    "                                           'BsmtHalfBath',\n",
    "                                           'BsmtQual', 'BsmtCond',\n",
    "                                           'BsmtExposure',  # TODO: mappa il valore No in 0 o 1\n",
    "                                           'BsmtFinType1', 'BsmtFinType2',  # TODO: da unire\n",
    "                                           'MasVnrArea']))\n",
    "\n",
    "# Features with NaN values going to NONE_VALUE.\n",
    "# Those are features with categorical value, but with no intrinsic order.\n",
    "to_none = list(filter(is_a_valid_feature,\n",
    "                      [\n",
    "                          'MSZoning',  # TODO: Maybe we should split this in sub-features with order\n",
    "                          \"MiscFeature\",\n",
    "                          \"Alley\",\n",
    "                          'GarageType',\n",
    "                          'MasVnrType'\n",
    "                      ]))\n",
    "\n",
    "# Features with NaN values going to the MSC one.\n",
    "# Those are features with unknown value and value property, so that they are mapped to the MSC value for that feature.\n",
    "to_most_common = list(filter(is_a_valid_feature, [\n",
    "    'Electrical',\n",
    "    'KitchenQual',\n",
    "    'Exterior1st',\n",
    "    'Exterior2nd',\n",
    "    'SaleType'\n",
    "]))\n",
    "\n",
    "other = list(filter(is_a_valid_feature, ['Functional', 'LotFrontage']))\n",
    "\n",
    "print('Features = {} | Features with NaN values = {}'.format(len(complete_df.keys()), nan_columns))\n",
    "print('Zero-like NaN features = {} | None-like NaN features = {} | NaN to MSC features = {} | Other = {}'\n",
    "      .format(len(to_zero), len(to_none), len(to_most_common), len(other)))\n"
   ]
  },
  {
   "cell_type": "heading",
   "metadata": {},
   "level": 1,
   "source": [
    "NaN removal:"
   ]
  },
  {
   "cell_type": "code",
   "execution_count": 31,
   "metadata": {},
   "outputs": [
    {
     "name": "stdout",
     "output_type": "stream",
     "text": [
      "(1457,)\n"
     ]
    }
   ],
   "source": [
    "for col in to_zero:\n",
    "    complete_df[col] = complete_df[col].fillna(ZERO_VALUE)\n",
    "\n",
    "for col in to_none:\n",
    "    complete_df[col] = complete_df[col].fillna(NONE_VALUE)\n",
    "\n",
    "for col in to_most_common:\n",
    "    complete_df[col] = complete_df[col].fillna(complete_df[col].mode()[0])\n",
    "\n",
    "# Group by neighborhood and fill in missing value by the median LotFrontage of all the neighborhood\n",
    "complete_df[\"LotFrontage\"] = complete_df.groupby(\"Neighborhood\")[\"LotFrontage\"].transform(\n",
    "    lambda x: x.fillna(x.median()))\n",
    "\n",
    "complete_df[\"Functional\"] = complete_df[\"Functional\"].fillna(\"Typ\")\n",
    "\n",
    "# Features with NaN values\n",
    "nan_mask = complete_df.isnull().any()\n",
    "nan_columns = nan_mask[nan_mask].shape[0]\n",
    "\n",
    "assert nan_columns == 0\n",
    "print(y_train.shape)"
   ]
  },
  {
   "cell_type": "heading",
   "metadata": {
    "collapsed": false
   },
   "level": 1,
   "source": [
    "Features correlation search & removal (excluding NaN/null values):"
   ]
  },
  {
   "cell_type": "code",
   "execution_count": 32,
   "metadata": {
    "collapsed": false
   },
   "outputs": [],
   "source": [
    "# CORRELATION = 0.65\n",
    "# # Correlation map to see how features are correlated with SalePrice (ignori\n",
    "# corrmat = complete_df.corr()\n",
    "# corrmat = corrmat > CORRELATION\n",
    "# np.fill_diagonal(corrmat.values, False)\n",
    "# \n",
    "# print('Shape before removal: {}'.format(complete_df.shape))\n",
    "# removed = []\n",
    "# while any(corrmat.any()):\n",
    "#     for col in corrmat.keys():\n",
    "#         if corrmat[col].any():\n",
    "#             complete_df.drop(columns=[col], inplace=True)\n",
    "#             removed.append(col)\n",
    "#             break\n",
    "#     corrmat = complete_df.corr()\n",
    "#     corrmat = corrmat > CORRELATION\n",
    "#     np.fill_diagonal(corrmat.values, False)\n",
    "# print('Shape after removal: {}'.format(complete_df.shape))\n",
    "# print('Removed columns: {}'.format(removed))\n",
    "\n",
    "complete_df = complete_df.drop(columns= [\n",
    "    \"TotalBsmtSF\",\n",
    "    \"GrLivArea\",\n",
    "    \"MasVnrArea\",\n",
    "    \"BsmtHalfBath\",\n",
    "    \"GarageYrBlt\",\n",
    "    \"OpenPorchSF\",\n",
    "    \"PoolArea\",\n",
    "    \"3SsnPorch\",\n",
    "    \"MiscVal\",\n",
    "    \"MoSold\",\n",
    "    \"LowQualFinSF\",\n",
    "    \"HalfBath\",\n",
    "    \"FullBath\",\n",
    "    \"EnclosedPorch\"\n",
    "])\n"
   ]
  },
  {
   "cell_type": "heading",
   "metadata": {},
   "level": 1,
   "source": [
    "\n",
    "Categories creation:"
   ]
  },
  {
   "cell_type": "code",
   "execution_count": 33,
   "metadata": {
    "collapsed": false
   },
   "outputs": [],
   "source": [
    "     \n",
    "categorical_mapping = {\n",
    "    # Exterior material quality\n",
    "    \"ExterQual\": ['Po', 'Fa', 'TA', 'Gd', 'Ex'],\n",
    "    # Present condition of the material on the exterior\n",
    "    \"ExterCond\": ['Po', 'Fa', 'TA', 'Gd', 'Ex'],\n",
    "    # Height of the basement\n",
    "    \"BsmtQual\": [ZERO_VALUE, 'Po', 'Fa', 'TA', 'Gd', 'Ex'],\n",
    "    # General condition of the basement\n",
    "    \"BsmtCond\": [ZERO_VALUE, 'Po', 'Fa', 'TA', 'Gd', 'Ex'],\n",
    "    # Walkout or garden level basement walls\n",
    "    \"BsmtExposure\": [ZERO_VALUE, 'No', 'Mn', 'Av', 'Gd'],\n",
    "    # Quality of basement finished area\n",
    "    \"BsmtFinType1\": [ZERO_VALUE, 'Unf', 'LwQ', 'Rec', 'BLQ', 'ALQ', 'GLQ'],\n",
    "    # todo Quality of second finished area (if present)\n",
    "    \"BsmtFinType2\": [ZERO_VALUE, 'Unf', 'LwQ', 'Rec', 'BLQ', 'ALQ', 'GLQ'],\n",
    "    # Heating quality and condition\n",
    "    \"HeatingQC\": ['Po', 'Fa', 'TA', 'Gd', 'Ex'],\n",
    "    # Kitchen quality\n",
    "    \"KitchenQual\": ['Po', 'Fa', 'TA', 'Gd', 'Ex'],\n",
    "    # Home functionality rating\n",
    "    \"Functional\": ['Sal', 'Sev', 'Maj2', 'Maj1', 'Mod', 'Min2', 'Min1', 'Typ'],\n",
    "    # Fireplace quality\n",
    "    \"FireplaceQu\":  [ZERO_VALUE, 'Po', 'Fa', 'TA', 'Gd', 'Ex'],\n",
    "    # Interior finish of the garage\n",
    "    \"GarageFinish\": [ZERO_VALUE, 'Unf', 'RFn', 'Fin'],\n",
    "    # Garage quality\n",
    "    \"GarageQual\": [ZERO_VALUE, 'Po', 'Fa', 'TA', 'Gd', 'Ex'],\n",
    "    # Garage condition\n",
    "    \"GarageCond\": [ZERO_VALUE, 'Po', 'Fa', 'TA', 'Gd', 'Ex'],\n",
    "    # Pool quality\n",
    "    \"PoolQC\": [ZERO_VALUE, 'Fa', 'TA', 'Gd', 'Ex'],  \n",
    "    # Fence quality\n",
    "    \"Fence\": [ZERO_VALUE, 'MnWw', 'GdWo', 'MnPrv', 'GdPrv']\n",
    "}\n",
    "\n"
   ]
  },
  {
   "cell_type": "heading",
   "metadata": {},
   "level": 1,
   "source": [
    "Categorical features mapping:"
   ]
  },
  {
   "cell_type": "code",
   "execution_count": 34,
   "metadata": {},
   "outputs": [],
   "source": [
    "count = 0"
   ]
  },
  {
   "cell_type": "code",
   "execution_count": 35,
   "metadata": {
    "collapsed": false
   },
   "outputs": [
    {
     "name": "stdout",
     "output_type": "stream",
     "text": [
      "['Po', 'Fa', 'TA', 'Gd', 'Ex']\n['Po', 'Fa', 'TA', 'Gd', 'Ex']\n['zero', 'Po', 'Fa', 'TA', 'Gd', 'Ex']\n['zero', 'Po', 'Fa', 'TA', 'Gd', 'Ex']\n"
     ]
    },
    {
     "name": "stdout",
     "output_type": "stream",
     "text": [
      "['zero', 'No', 'Mn', 'Av', 'Gd']\n['zero', 'Unf', 'LwQ', 'Rec', 'BLQ', 'ALQ', 'GLQ']\n['zero', 'Unf', 'LwQ', 'Rec', 'BLQ', 'ALQ', 'GLQ']\n['Po', 'Fa', 'TA', 'Gd', 'Ex']\n['Po', 'Fa', 'TA', 'Gd', 'Ex']\n['Sal', 'Sev', 'Maj2', 'Maj1', 'Mod', 'Min2', 'Min1', 'Typ']\n['zero', 'Po', 'Fa', 'TA', 'Gd', 'Ex']\n['zero', 'Unf', 'RFn', 'Fin']\n['zero', 'Po', 'Fa', 'TA', 'Gd', 'Ex']\n['zero', 'Po', 'Fa', 'TA', 'Gd', 'Ex']\n['zero', 'Fa', 'TA', 'Gd', 'Ex']\n['zero', 'MnWw', 'GdWo', 'MnPrv', 'GdPrv']\n   ExterQual  ExterCond  BsmtQual  BsmtCond  BsmtExposure  BsmtFinType1  \\\n0          3          2         4         3             1             6   \n1          2          2         4         3             4             5   \n2          3          2         4         3             2             6   \n3          2          2         3         4             1             5   \n4          3          2         4         3             3             6   \n\n   BsmtFinType2  HeatingQC  KitchenQual  Functional  FireplaceQu  \\\n0             1          4            3           7           -1   \n1             1          4            2           7            3   \n2             1          4            3           7            3   \n3             1          3            3           7            4   \n4             1          4            3           7            3   \n\n   GarageFinish  GarageQual  GarageCond  PoolQC  Fence  \n0             2           3           3      -1     -1  \n1             2           3           3      -1     -1  \n2             2           3           3      -1     -1  \n3             1           3           3      -1     -1  \n4             2           3           3      -1     -1  \nDa verificare per bene il funzionamento (ma credo sia corretto)\n"
     ]
    }
   ],
   "source": [
    "# esegui solo una volta!!\n",
    "if count == 0:\n",
    "    for feature, categories in categorical_mapping.items():\n",
    "        print(categories)\n",
    "        complete_df[feature] = pd.Categorical(complete_df[feature], categories=categories).codes\n",
    "\n",
    "    # Porta a zero -> 0 le feature solo numeriche\n",
    "    complete_df = complete_df.replace(to_replace=ZERO_VALUE, value=0)\n",
    "\n",
    "    print(complete_df[list(categorical_mapping.keys())].head())\n",
    "\n",
    "    print('Da verificare per bene il funzionamento (ma credo sia corretto)')\n",
    "    count += 1\n"
   ]
  },
  {
   "cell_type": "heading",
   "metadata": {},
   "level": 1,
   "source": [
    "Features conversion (basic infer):"
   ]
  },
  {
   "cell_type": "code",
   "execution_count": 36,
   "metadata": {},
   "outputs": [],
   "source": [
    "complete_df = complete_df.infer_objects()"
   ]
  },
  {
   "cell_type": "heading",
   "metadata": {},
   "level": 1,
   "source": [
    "Add some simple features"
   ]
  },
  {
   "cell_type": "code",
   "execution_count": 37,
   "metadata": {},
   "outputs": [],
   "source": [
    "# #simplified features\n",
    "# # complete_df['haspool'] = complete_df['PoolArea'].apply(lambda x: 1 if x > 0 else 0)\n",
    "# # complete_df['has2ndfloor'] = complete_df['2ndFlrSF'].apply(lambda x: 1 if x > 0 else 0)\n",
    "# complete_df['hasgarage'] = complete_df['GarageArea'].apply(lambda x: 1 if x > 0 else 0)\n",
    "# # complete_df['hasbsmt'] = complete_df['TotalBsmtSF'].apply(lambda x: 1 if x > 0 else 0)\n",
    "# complete_df['hasfireplace'] = complete_df['Fireplaces'].apply(lambda x: 1 if x > 0 else 0)\n",
    "# \n",
    "# # complete_df['Total_sqr_footage'] = (complete_df['BsmtFinSF1'] + complete_df['BsmtFinSF2'] +\n",
    "# #                                  complete_df['1stFlrSF'] + complete_df['2ndFlrSF'])\n",
    "# \n",
    "# # complete_df['Total_Bathrooms'] = (complete_df['FullBath'] + (0.5*complete_df['HalfBath']) + \n",
    "# #                                complete_df['BsmtFullBath'] + (0.5*complete_df['BsmtHalfBath']))\n",
    "# \n",
    "# complete_df['Total_porch_sf'] = (complete_df['OpenPorchSF'] + complete_df['3SsnPorch'] +\n",
    "#                               complete_df['EnclosedPorch'] + complete_df['ScreenPorch'] +\n",
    "#                              complete_df['WoodDeckSF'])"
   ]
  },
  {
   "cell_type": "heading",
   "metadata": {},
   "level": 1,
   "source": [
    "One hot encoding of remaining categorical features:"
   ]
  },
  {
   "cell_type": "code",
   "execution_count": 38,
   "metadata": {},
   "outputs": [],
   "source": [
    "\n",
    "# Feature categoriche senza ordinamento\n",
    "to_one_hot_encoding = [\n",
    "    \"MSSubClass\",  # The building class\n",
    "    \"MSZoning\",  # The general zoning classification\n",
    "    \"Street\",  # Type of road access\n",
    "    \"Alley\",  # Type of alley access\n",
    "    \"LotShape\",  # General shape of property\n",
    "    \"LandContour\",  # Flatness of the property\n",
    "    \"LotConfig\",  # Lot configuration\n",
    "    \"LandSlope\",  # Slope of property\n",
    "    \"Neighborhood\",  # Physical locations within Ames city limits\n",
    "    \"Condition1\",  # Proximity to main road or railroad\n",
    "    \"Condition2\",\n",
    "    \"BldgType\",  # Type of dwelling\n",
    "    \"HouseStyle\",  # Style of dwelling\n",
    "    \"RoofStyle\",  # Type of roof\n",
    "    \"RoofMatl\",  # Roof material\n",
    "    \"Exterior1st\",  # Exterior covering on house\n",
    "    \"Exterior2nd\",  # Exterior covering on house (if more than one material)\n",
    "    \"MasVnrType\",  # Masonry veneer type\n",
    "    \"Foundation\",  # Type of foundation\n",
    "    \"Heating\",  # Type of heating\n",
    "    \"CentralAir\",  # Central air conditioning\n",
    "    \"Electrical\",  # Electrical system\n",
    "    \"GarageType\",  # Garage location\n",
    "    \"PavedDrive\",  # Paved driveway\n",
    "    \"MiscFeature\",  # Miscellaneous feature not covered in other categories\n",
    "    \"MiscVal\",  # $Value of miscellaneous feature\n",
    "    \"SaleType\",  # Type of sale todo Forse va spezzata in altre feature\n",
    "    \"SaleCondition\"]  # Condition of sale\n",
    "complete_df = pd.get_dummies(complete_df, columns=list(filter(is_a_valid_feature, to_one_hot_encoding)))"
   ]
  },
  {
   "cell_type": "heading",
   "metadata": {},
   "level": 1,
   "source": [
    "\n",
    "Regression!"
   ]
  },
  {
   "cell_type": "heading",
   "metadata": {},
   "level": 1,
   "source": [
    "Validation tests"
   ]
  },
  {
   "cell_type": "code",
   "execution_count": 39,
   "metadata": {
    "collapsed": false
   },
   "outputs": [
    {
     "name": "stdout",
     "output_type": "stream",
     "text": [
      "(1457, 231)\n(1457,)\n(874, 231)\n(874,)\n(583, 231)\n(583,)\n"
     ]
    },
    {
     "name": "stdout",
     "output_type": "stream",
     "text": [
      "ERROR on validation set: 0.1235063010588771\nDone validating\n"
     ]
    }
   ],
   "source": [
    "from sklearn.ensemble import GradientBoostingRegressor\n",
    "from sklearn.linear_model import Lasso, LassoCV\n",
    "from sklearn.metrics import mean_squared_log_error\n",
    "from sklearn.model_selection import train_test_split\n",
    "from sklearn.pipeline import make_pipeline\n",
    "from sklearn.preprocessing import RobustScaler\n",
    "from xgboost import XGBRegressor\n",
    "\n",
    "x_train = complete_df[:train_obs]\n",
    "x_test = complete_df[train_obs:]\n",
    "assert train_obs == x_train.shape[0]\n",
    "assert test_obs == x_test.shape[0]\n",
    "\n",
    "print(x_train.shape)\n",
    "print(y_train.shape)\n",
    "x_reduced_train, x_validation, y_reduced_train, y_validation = train_test_split(x_train, y_train, test_size=0.40)\n",
    "\n",
    "print(x_reduced_train.shape)\n",
    "\n",
    "print(y_reduced_train.shape)\n",
    "print(x_validation.shape)\n",
    "print(y_validation.shape)\n",
    "# \n",
    "predictor = make_pipeline(RobustScaler(),\n",
    "                        XGBRegressor(learning_rate =0.01, n_estimators=3460, \n",
    "                                     max_depth=3,min_child_weight=0 ,\n",
    "                                     gamma=0, subsample=0.7,\n",
    "                                     colsample_bytree=0.7,\n",
    "                                     objective= 'reg:linear',nthread=4,\n",
    "                                     scale_pos_weight=1,seed=27, \n",
    "                                     reg_alpha=0.00006))\n",
    "\n",
    "\n",
    "# predictor = make_pipeline(XGBRegressor(learning_rate=0.01, n_estimators=3460,\n",
    "#                                        max_depth=3, min_child_weight=0,\n",
    "#                                        gamma=0, subsample=0.7,\n",
    "#                                        colsample_bytree=0.7,\n",
    "#                                        objective='reg:linear', nthread=4,\n",
    "#                                        scale_pos_weight=1, seed=27,\n",
    "#                                        reg_alpha=0.00006))\n",
    "\n",
    "\n",
    "predictor.fit(x_reduced_train, y_reduced_train)\n",
    "y_validation_pred = predictor.predict(x_validation)\n",
    "\n",
    "y_validation = np.expm1(y_validation)\n",
    "y_validation_pred = np.expm1(y_validation_pred)\n",
    "# a = (filter(lambda  y: y <0, y_validation_pred))\n",
    "\n",
    "# print(list(a))\n",
    "\n",
    "\n",
    "err = np.sqrt(mean_squared_log_error(y_validation, y_validation_pred))\n",
    "print(\"ERROR on validation set: {}\".format(err))\n",
    "\n",
    "print(\"Done validating\")\n"
   ]
  },
  {
   "cell_type": "heading",
   "metadata": {},
   "level": 1,
   "source": [
    "Test predictions"
   ]
  },
  {
   "cell_type": "code",
   "execution_count": 40,
   "metadata": {
    "collapsed": false
   },
   "outputs": [
    {
     "name": "stdout",
     "output_type": "stream",
     "text": [
      "DONE\n"
     ]
    }
   ],
   "source": [
    "# predictor = make_pipeline(XGBRegressor(learning_rate=0.01, n_estimators=3460,\n",
    "#                                        max_depth=3, min_child_weight=0,\n",
    "#                                        gamma=0, subsample=0.7,\n",
    "#                                        colsample_bytree=0.7,\n",
    "#                                        objective='reg:linear', nthread=4,\n",
    "#                                        scale_pos_weight=1, seed=27,\n",
    "#                                        reg_alpha=0.00006))\n",
    "\n",
    "predictor = make_pipeline(RobustScaler(),\n",
    "                          Lasso(alpha = 0.0003, random_state=1, max_iter=50000))\n",
    "\n",
    "\n",
    "predictor.fit(x_train, y_train)\n",
    "\n",
    "predictions = predictor.predict(x_test)\n",
    "result_df = pd.DataFrame()\n",
    "result_df['Id'] = test_ids\n",
    "result_df['SalePrice'] = np.expm1(predictions)\n",
    "result_df.to_csv(Path(dataset_dir, 'predictions.csv'), index=False)\n",
    "# \n",
    "print(\"DONE\")\n"
   ]
  },
  {
   "cell_type": "code",
   "execution_count": 41,
   "metadata": {},
   "outputs": [],
   "source": [
    "\n",
    "\n",
    "\n",
    "\n",
    "\n"
   ]
  }
 ],
 "metadata": {
  "kernelspec": {
   "display_name": "Python 2",
   "language": "python",
   "name": "python2"
  },
  "language_info": {
   "codemirror_mode": {
    "name": "ipython",
    "version": 2
   },
   "file_extension": ".py",
   "mimetype": "text/x-python",
   "name": "python",
   "nbconvert_exporter": "python",
   "pygments_lexer": "ipython2",
   "version": "2.7.6"
  }
 },
 "nbformat": 4,
 "nbformat_minor": 0
}
